{
 "cells": [
  {
   "cell_type": "markdown",
   "metadata": {},
   "source": [
    "# Allstate Claims Severity"
   ]
  },
  {
   "cell_type": "markdown",
   "metadata": {},
   "source": [
    "## Initialization"
   ]
  },
  {
   "cell_type": "code",
   "execution_count": 84,
   "metadata": {
    "collapsed": false
   },
   "outputs": [],
   "source": [
    "import time\n",
    "import pandas as pd\n",
    "from sklearn.metrics import mean_absolute_error\n",
    "from sklearn.cross_validation import train_test_split\n",
    "from sklearn.linear_model import LinearRegression\n",
    "from sklearn.grid_search import GridSearchCV\n",
    "from sklearn.ensemble import RandomForestRegressor\n",
    "from sklearn.externals import joblib\n",
    "import xgboost as xgb\n",
    "import matplotlib.pyplot as plt\n",
    "%matplotlib inline"
   ]
  },
  {
   "cell_type": "markdown",
   "metadata": {},
   "source": [
    "## Data preparation"
   ]
  },
  {
   "cell_type": "code",
   "execution_count": 2,
   "metadata": {
    "collapsed": true
   },
   "outputs": [],
   "source": [
    "train = pd.read_csv('../data/train.csv')\n",
    "test = pd.read_csv('../data/test.csv')\n",
    "sample = pd.read_csv('../data/sample_submission.csv')"
   ]
  },
  {
   "cell_type": "code",
   "execution_count": 3,
   "metadata": {
    "collapsed": false
   },
   "outputs": [
    {
     "data": {
      "text/html": [
       "<div>\n",
       "<table border=\"1\" class=\"dataframe\">\n",
       "  <thead>\n",
       "    <tr style=\"text-align: right;\">\n",
       "      <th></th>\n",
       "      <th>id</th>\n",
       "      <th>cat1</th>\n",
       "      <th>cat2</th>\n",
       "      <th>cat3</th>\n",
       "      <th>cat4</th>\n",
       "      <th>cat5</th>\n",
       "      <th>cat6</th>\n",
       "      <th>cat7</th>\n",
       "      <th>cat8</th>\n",
       "      <th>cat9</th>\n",
       "      <th>...</th>\n",
       "      <th>cont6</th>\n",
       "      <th>cont7</th>\n",
       "      <th>cont8</th>\n",
       "      <th>cont9</th>\n",
       "      <th>cont10</th>\n",
       "      <th>cont11</th>\n",
       "      <th>cont12</th>\n",
       "      <th>cont13</th>\n",
       "      <th>cont14</th>\n",
       "      <th>loss</th>\n",
       "    </tr>\n",
       "  </thead>\n",
       "  <tbody>\n",
       "    <tr>\n",
       "      <th>0</th>\n",
       "      <td>1</td>\n",
       "      <td>A</td>\n",
       "      <td>B</td>\n",
       "      <td>A</td>\n",
       "      <td>B</td>\n",
       "      <td>A</td>\n",
       "      <td>A</td>\n",
       "      <td>A</td>\n",
       "      <td>A</td>\n",
       "      <td>B</td>\n",
       "      <td>...</td>\n",
       "      <td>0.718367</td>\n",
       "      <td>0.335060</td>\n",
       "      <td>0.30260</td>\n",
       "      <td>0.67135</td>\n",
       "      <td>0.83510</td>\n",
       "      <td>0.569745</td>\n",
       "      <td>0.594646</td>\n",
       "      <td>0.822493</td>\n",
       "      <td>0.714843</td>\n",
       "      <td>2213.18</td>\n",
       "    </tr>\n",
       "    <tr>\n",
       "      <th>1</th>\n",
       "      <td>2</td>\n",
       "      <td>A</td>\n",
       "      <td>B</td>\n",
       "      <td>A</td>\n",
       "      <td>A</td>\n",
       "      <td>A</td>\n",
       "      <td>A</td>\n",
       "      <td>A</td>\n",
       "      <td>A</td>\n",
       "      <td>B</td>\n",
       "      <td>...</td>\n",
       "      <td>0.438917</td>\n",
       "      <td>0.436585</td>\n",
       "      <td>0.60087</td>\n",
       "      <td>0.35127</td>\n",
       "      <td>0.43919</td>\n",
       "      <td>0.338312</td>\n",
       "      <td>0.366307</td>\n",
       "      <td>0.611431</td>\n",
       "      <td>0.304496</td>\n",
       "      <td>1283.60</td>\n",
       "    </tr>\n",
       "    <tr>\n",
       "      <th>2</th>\n",
       "      <td>5</td>\n",
       "      <td>A</td>\n",
       "      <td>B</td>\n",
       "      <td>A</td>\n",
       "      <td>A</td>\n",
       "      <td>B</td>\n",
       "      <td>A</td>\n",
       "      <td>A</td>\n",
       "      <td>A</td>\n",
       "      <td>B</td>\n",
       "      <td>...</td>\n",
       "      <td>0.289648</td>\n",
       "      <td>0.315545</td>\n",
       "      <td>0.27320</td>\n",
       "      <td>0.26076</td>\n",
       "      <td>0.32446</td>\n",
       "      <td>0.381398</td>\n",
       "      <td>0.373424</td>\n",
       "      <td>0.195709</td>\n",
       "      <td>0.774425</td>\n",
       "      <td>3005.09</td>\n",
       "    </tr>\n",
       "    <tr>\n",
       "      <th>3</th>\n",
       "      <td>10</td>\n",
       "      <td>B</td>\n",
       "      <td>B</td>\n",
       "      <td>A</td>\n",
       "      <td>B</td>\n",
       "      <td>A</td>\n",
       "      <td>A</td>\n",
       "      <td>A</td>\n",
       "      <td>A</td>\n",
       "      <td>B</td>\n",
       "      <td>...</td>\n",
       "      <td>0.440945</td>\n",
       "      <td>0.391128</td>\n",
       "      <td>0.31796</td>\n",
       "      <td>0.32128</td>\n",
       "      <td>0.44467</td>\n",
       "      <td>0.327915</td>\n",
       "      <td>0.321570</td>\n",
       "      <td>0.605077</td>\n",
       "      <td>0.602642</td>\n",
       "      <td>939.85</td>\n",
       "    </tr>\n",
       "    <tr>\n",
       "      <th>4</th>\n",
       "      <td>11</td>\n",
       "      <td>A</td>\n",
       "      <td>B</td>\n",
       "      <td>A</td>\n",
       "      <td>B</td>\n",
       "      <td>A</td>\n",
       "      <td>A</td>\n",
       "      <td>A</td>\n",
       "      <td>A</td>\n",
       "      <td>B</td>\n",
       "      <td>...</td>\n",
       "      <td>0.178193</td>\n",
       "      <td>0.247408</td>\n",
       "      <td>0.24564</td>\n",
       "      <td>0.22089</td>\n",
       "      <td>0.21230</td>\n",
       "      <td>0.204687</td>\n",
       "      <td>0.202213</td>\n",
       "      <td>0.246011</td>\n",
       "      <td>0.432606</td>\n",
       "      <td>2763.85</td>\n",
       "    </tr>\n",
       "  </tbody>\n",
       "</table>\n",
       "<p>5 rows × 132 columns</p>\n",
       "</div>"
      ],
      "text/plain": [
       "   id cat1 cat2 cat3 cat4 cat5 cat6 cat7 cat8 cat9   ...        cont6  \\\n",
       "0   1    A    B    A    B    A    A    A    A    B   ...     0.718367   \n",
       "1   2    A    B    A    A    A    A    A    A    B   ...     0.438917   \n",
       "2   5    A    B    A    A    B    A    A    A    B   ...     0.289648   \n",
       "3  10    B    B    A    B    A    A    A    A    B   ...     0.440945   \n",
       "4  11    A    B    A    B    A    A    A    A    B   ...     0.178193   \n",
       "\n",
       "      cont7    cont8    cont9   cont10    cont11    cont12    cont13  \\\n",
       "0  0.335060  0.30260  0.67135  0.83510  0.569745  0.594646  0.822493   \n",
       "1  0.436585  0.60087  0.35127  0.43919  0.338312  0.366307  0.611431   \n",
       "2  0.315545  0.27320  0.26076  0.32446  0.381398  0.373424  0.195709   \n",
       "3  0.391128  0.31796  0.32128  0.44467  0.327915  0.321570  0.605077   \n",
       "4  0.247408  0.24564  0.22089  0.21230  0.204687  0.202213  0.246011   \n",
       "\n",
       "     cont14     loss  \n",
       "0  0.714843  2213.18  \n",
       "1  0.304496  1283.60  \n",
       "2  0.774425  3005.09  \n",
       "3  0.602642   939.85  \n",
       "4  0.432606  2763.85  \n",
       "\n",
       "[5 rows x 132 columns]"
      ]
     },
     "execution_count": 3,
     "metadata": {},
     "output_type": "execute_result"
    }
   ],
   "source": [
    "train.head()"
   ]
  },
  {
   "cell_type": "code",
   "execution_count": 4,
   "metadata": {
    "collapsed": false
   },
   "outputs": [
    {
     "name": "stdout",
     "output_type": "stream",
     "text": [
      "<class 'pandas.core.frame.DataFrame'>\n",
      "RangeIndex: 188318 entries, 0 to 188317\n",
      "Columns: 132 entries, id to loss\n",
      "dtypes: float64(15), int64(1), object(116)\n",
      "memory usage: 189.7+ MB\n"
     ]
    }
   ],
   "source": [
    "train.info()"
   ]
  },
  {
   "cell_type": "code",
   "execution_count": 5,
   "metadata": {
    "collapsed": false
   },
   "outputs": [
    {
     "data": {
      "text/plain": [
       "Index(['id', 'cat1', 'cat2', 'cat3', 'cat4', 'cat5', 'cat6', 'cat7', 'cat8',\n",
       "       'cat9',\n",
       "       ...\n",
       "       'cont6', 'cont7', 'cont8', 'cont9', 'cont10', 'cont11', 'cont12',\n",
       "       'cont13', 'cont14', 'loss'],\n",
       "      dtype='object', length=132)"
      ]
     },
     "execution_count": 5,
     "metadata": {},
     "output_type": "execute_result"
    }
   ],
   "source": [
    "train.columns"
   ]
  },
  {
   "cell_type": "code",
   "execution_count": 6,
   "metadata": {
    "collapsed": false
   },
   "outputs": [
    {
     "data": {
      "text/html": [
       "<div>\n",
       "<table border=\"1\" class=\"dataframe\">\n",
       "  <thead>\n",
       "    <tr style=\"text-align: right;\">\n",
       "      <th></th>\n",
       "      <th>id</th>\n",
       "      <th>cat1</th>\n",
       "      <th>cat2</th>\n",
       "      <th>cat3</th>\n",
       "      <th>cat4</th>\n",
       "      <th>cat5</th>\n",
       "      <th>cat6</th>\n",
       "      <th>cat7</th>\n",
       "      <th>cat8</th>\n",
       "      <th>cat9</th>\n",
       "      <th>...</th>\n",
       "      <th>cont5</th>\n",
       "      <th>cont6</th>\n",
       "      <th>cont7</th>\n",
       "      <th>cont8</th>\n",
       "      <th>cont9</th>\n",
       "      <th>cont10</th>\n",
       "      <th>cont11</th>\n",
       "      <th>cont12</th>\n",
       "      <th>cont13</th>\n",
       "      <th>cont14</th>\n",
       "    </tr>\n",
       "  </thead>\n",
       "  <tbody>\n",
       "    <tr>\n",
       "      <th>0</th>\n",
       "      <td>4</td>\n",
       "      <td>A</td>\n",
       "      <td>B</td>\n",
       "      <td>A</td>\n",
       "      <td>A</td>\n",
       "      <td>A</td>\n",
       "      <td>A</td>\n",
       "      <td>A</td>\n",
       "      <td>A</td>\n",
       "      <td>B</td>\n",
       "      <td>...</td>\n",
       "      <td>0.281143</td>\n",
       "      <td>0.466591</td>\n",
       "      <td>0.317681</td>\n",
       "      <td>0.61229</td>\n",
       "      <td>0.34365</td>\n",
       "      <td>0.38016</td>\n",
       "      <td>0.377724</td>\n",
       "      <td>0.369858</td>\n",
       "      <td>0.704052</td>\n",
       "      <td>0.392562</td>\n",
       "    </tr>\n",
       "    <tr>\n",
       "      <th>1</th>\n",
       "      <td>6</td>\n",
       "      <td>A</td>\n",
       "      <td>B</td>\n",
       "      <td>A</td>\n",
       "      <td>B</td>\n",
       "      <td>A</td>\n",
       "      <td>A</td>\n",
       "      <td>A</td>\n",
       "      <td>A</td>\n",
       "      <td>B</td>\n",
       "      <td>...</td>\n",
       "      <td>0.836443</td>\n",
       "      <td>0.482425</td>\n",
       "      <td>0.443760</td>\n",
       "      <td>0.71330</td>\n",
       "      <td>0.51890</td>\n",
       "      <td>0.60401</td>\n",
       "      <td>0.689039</td>\n",
       "      <td>0.675759</td>\n",
       "      <td>0.453468</td>\n",
       "      <td>0.208045</td>\n",
       "    </tr>\n",
       "    <tr>\n",
       "      <th>2</th>\n",
       "      <td>9</td>\n",
       "      <td>A</td>\n",
       "      <td>B</td>\n",
       "      <td>A</td>\n",
       "      <td>B</td>\n",
       "      <td>B</td>\n",
       "      <td>A</td>\n",
       "      <td>B</td>\n",
       "      <td>A</td>\n",
       "      <td>B</td>\n",
       "      <td>...</td>\n",
       "      <td>0.718531</td>\n",
       "      <td>0.212308</td>\n",
       "      <td>0.325779</td>\n",
       "      <td>0.29758</td>\n",
       "      <td>0.34365</td>\n",
       "      <td>0.30529</td>\n",
       "      <td>0.245410</td>\n",
       "      <td>0.241676</td>\n",
       "      <td>0.258586</td>\n",
       "      <td>0.297232</td>\n",
       "    </tr>\n",
       "    <tr>\n",
       "      <th>3</th>\n",
       "      <td>12</td>\n",
       "      <td>A</td>\n",
       "      <td>A</td>\n",
       "      <td>A</td>\n",
       "      <td>A</td>\n",
       "      <td>B</td>\n",
       "      <td>A</td>\n",
       "      <td>A</td>\n",
       "      <td>A</td>\n",
       "      <td>A</td>\n",
       "      <td>...</td>\n",
       "      <td>0.397069</td>\n",
       "      <td>0.369930</td>\n",
       "      <td>0.342355</td>\n",
       "      <td>0.40028</td>\n",
       "      <td>0.33237</td>\n",
       "      <td>0.31480</td>\n",
       "      <td>0.348867</td>\n",
       "      <td>0.341872</td>\n",
       "      <td>0.592264</td>\n",
       "      <td>0.555955</td>\n",
       "    </tr>\n",
       "    <tr>\n",
       "      <th>4</th>\n",
       "      <td>15</td>\n",
       "      <td>B</td>\n",
       "      <td>A</td>\n",
       "      <td>A</td>\n",
       "      <td>A</td>\n",
       "      <td>A</td>\n",
       "      <td>B</td>\n",
       "      <td>A</td>\n",
       "      <td>A</td>\n",
       "      <td>A</td>\n",
       "      <td>...</td>\n",
       "      <td>0.302678</td>\n",
       "      <td>0.398862</td>\n",
       "      <td>0.391833</td>\n",
       "      <td>0.23688</td>\n",
       "      <td>0.43731</td>\n",
       "      <td>0.50556</td>\n",
       "      <td>0.359572</td>\n",
       "      <td>0.352251</td>\n",
       "      <td>0.301535</td>\n",
       "      <td>0.825823</td>\n",
       "    </tr>\n",
       "  </tbody>\n",
       "</table>\n",
       "<p>5 rows × 131 columns</p>\n",
       "</div>"
      ],
      "text/plain": [
       "   id cat1 cat2 cat3 cat4 cat5 cat6 cat7 cat8 cat9    ...        cont5  \\\n",
       "0   4    A    B    A    A    A    A    A    A    B    ...     0.281143   \n",
       "1   6    A    B    A    B    A    A    A    A    B    ...     0.836443   \n",
       "2   9    A    B    A    B    B    A    B    A    B    ...     0.718531   \n",
       "3  12    A    A    A    A    B    A    A    A    A    ...     0.397069   \n",
       "4  15    B    A    A    A    A    B    A    A    A    ...     0.302678   \n",
       "\n",
       "      cont6     cont7    cont8    cont9   cont10    cont11    cont12  \\\n",
       "0  0.466591  0.317681  0.61229  0.34365  0.38016  0.377724  0.369858   \n",
       "1  0.482425  0.443760  0.71330  0.51890  0.60401  0.689039  0.675759   \n",
       "2  0.212308  0.325779  0.29758  0.34365  0.30529  0.245410  0.241676   \n",
       "3  0.369930  0.342355  0.40028  0.33237  0.31480  0.348867  0.341872   \n",
       "4  0.398862  0.391833  0.23688  0.43731  0.50556  0.359572  0.352251   \n",
       "\n",
       "     cont13    cont14  \n",
       "0  0.704052  0.392562  \n",
       "1  0.453468  0.208045  \n",
       "2  0.258586  0.297232  \n",
       "3  0.592264  0.555955  \n",
       "4  0.301535  0.825823  \n",
       "\n",
       "[5 rows x 131 columns]"
      ]
     },
     "execution_count": 6,
     "metadata": {},
     "output_type": "execute_result"
    }
   ],
   "source": [
    "test.head()"
   ]
  },
  {
   "cell_type": "code",
   "execution_count": 7,
   "metadata": {
    "collapsed": false
   },
   "outputs": [
    {
     "name": "stdout",
     "output_type": "stream",
     "text": [
      "<class 'pandas.core.frame.DataFrame'>\n",
      "RangeIndex: 125546 entries, 0 to 125545\n",
      "Columns: 131 entries, id to cont14\n",
      "dtypes: float64(14), int64(1), object(116)\n",
      "memory usage: 125.5+ MB\n"
     ]
    }
   ],
   "source": [
    "test.info()"
   ]
  },
  {
   "cell_type": "code",
   "execution_count": 8,
   "metadata": {
    "collapsed": false
   },
   "outputs": [
    {
     "data": {
      "text/plain": [
       "Index(['id', 'cat1', 'cat2', 'cat3', 'cat4', 'cat5', 'cat6', 'cat7', 'cat8',\n",
       "       'cat9',\n",
       "       ...\n",
       "       'cont5', 'cont6', 'cont7', 'cont8', 'cont9', 'cont10', 'cont11',\n",
       "       'cont12', 'cont13', 'cont14'],\n",
       "      dtype='object', length=131)"
      ]
     },
     "execution_count": 8,
     "metadata": {},
     "output_type": "execute_result"
    }
   ],
   "source": [
    "test.columns"
   ]
  },
  {
   "cell_type": "code",
   "execution_count": 9,
   "metadata": {
    "collapsed": false
   },
   "outputs": [
    {
     "data": {
      "text/plain": [
       "A    123737\n",
       "B     64581\n",
       "Name: cat5, dtype: int64"
      ]
     },
     "execution_count": 9,
     "metadata": {},
     "output_type": "execute_result"
    }
   ],
   "source": [
    "train.cat5.value_counts()"
   ]
  },
  {
   "cell_type": "code",
   "execution_count": 10,
   "metadata": {
    "collapsed": false
   },
   "outputs": [
    {
     "data": {
      "text/html": [
       "<div>\n",
       "<table border=\"1\" class=\"dataframe\">\n",
       "  <thead>\n",
       "    <tr style=\"text-align: right;\">\n",
       "      <th></th>\n",
       "      <th>id</th>\n",
       "      <th>loss</th>\n",
       "    </tr>\n",
       "  </thead>\n",
       "  <tbody>\n",
       "    <tr>\n",
       "      <th>0</th>\n",
       "      <td>4</td>\n",
       "      <td>0</td>\n",
       "    </tr>\n",
       "    <tr>\n",
       "      <th>1</th>\n",
       "      <td>6</td>\n",
       "      <td>0</td>\n",
       "    </tr>\n",
       "    <tr>\n",
       "      <th>2</th>\n",
       "      <td>9</td>\n",
       "      <td>0</td>\n",
       "    </tr>\n",
       "    <tr>\n",
       "      <th>3</th>\n",
       "      <td>12</td>\n",
       "      <td>0</td>\n",
       "    </tr>\n",
       "    <tr>\n",
       "      <th>4</th>\n",
       "      <td>15</td>\n",
       "      <td>0</td>\n",
       "    </tr>\n",
       "  </tbody>\n",
       "</table>\n",
       "</div>"
      ],
      "text/plain": [
       "   id  loss\n",
       "0   4     0\n",
       "1   6     0\n",
       "2   9     0\n",
       "3  12     0\n",
       "4  15     0"
      ]
     },
     "execution_count": 10,
     "metadata": {},
     "output_type": "execute_result"
    }
   ],
   "source": [
    "sample.head()"
   ]
  },
  {
   "cell_type": "code",
   "execution_count": 11,
   "metadata": {
    "collapsed": false
   },
   "outputs": [],
   "source": [
    "outcome = train.loss\n",
    "train.drop(['id', 'loss'], axis=1, inplace=True)\n",
    "testId = test['id']\n",
    "test.drop(['id'], axis=1, inplace=True)\n",
    "train['Test'] = False\n",
    "test['Test'] = True\n",
    "data = pd.concat([train, test], ignore_index=True)"
   ]
  },
  {
   "cell_type": "code",
   "execution_count": 12,
   "metadata": {
    "collapsed": false
   },
   "outputs": [],
   "source": [
    "data = pd.get_dummies(data, columns=data.columns[:116])"
   ]
  },
  {
   "cell_type": "code",
   "execution_count": 13,
   "metadata": {
    "collapsed": false
   },
   "outputs": [
    {
     "data": {
      "text/plain": [
       "Index(['cont1', 'cont2', 'cont3', 'cont4', 'cont5', 'cont6', 'cont7', 'cont8',\n",
       "       'cont9', 'cont10',\n",
       "       ...\n",
       "       'cat116_P', 'cat116_Q', 'cat116_R', 'cat116_S', 'cat116_T', 'cat116_U',\n",
       "       'cat116_V', 'cat116_W', 'cat116_X', 'cat116_Y'],\n",
       "      dtype='object', length=1191)"
      ]
     },
     "execution_count": 13,
     "metadata": {},
     "output_type": "execute_result"
    }
   ],
   "source": [
    "data.columns"
   ]
  },
  {
   "cell_type": "markdown",
   "metadata": {},
   "source": [
    "## Machine Learning"
   ]
  },
  {
   "cell_type": "code",
   "execution_count": 14,
   "metadata": {
    "collapsed": true
   },
   "outputs": [],
   "source": [
    "train = data[data.Test == 0].drop('Test', axis=1).copy()\n",
    "test = data[data.Test == 1].drop('Test', axis=1).copy()\n",
    "del data"
   ]
  },
  {
   "cell_type": "code",
   "execution_count": 15,
   "metadata": {
    "collapsed": false
   },
   "outputs": [],
   "source": [
    "X = train\n",
    "y = outcome\n",
    "Xtr, Xval, ytr, yval = train_test_split(X, y, test_size=0.15, random_state=777)"
   ]
  },
  {
   "cell_type": "code",
   "execution_count": 16,
   "metadata": {
    "collapsed": false
   },
   "outputs": [
    {
     "data": {
      "text/plain": [
       "((160070, 1190), (28248, 1190))"
      ]
     },
     "execution_count": 16,
     "metadata": {},
     "output_type": "execute_result"
    }
   ],
   "source": [
    "Xtr.shape, Xval.shape"
   ]
  },
  {
   "cell_type": "markdown",
   "metadata": {
    "collapsed": true
   },
   "source": [
    "### XGBoost"
   ]
  },
  {
   "cell_type": "code",
   "execution_count": 26,
   "metadata": {
    "collapsed": false
   },
   "outputs": [],
   "source": [
    "# read in data\n",
    "dtrain = xgb.DMatrix(X, label=y)\n",
    "dtest = xgb.DMatrix(test)"
   ]
  },
  {
   "cell_type": "code",
   "execution_count": 27,
   "metadata": {
    "collapsed": true
   },
   "outputs": [],
   "source": [
    "dtrain_tr = xgb.DMatrix(Xtr, label=ytr)\n",
    "dtest_val = xgb.DMatrix(Xval)"
   ]
  },
  {
   "cell_type": "markdown",
   "metadata": {},
   "source": [
    "#### 1. Default XGBoost - with 2 rounds"
   ]
  },
  {
   "cell_type": "code",
   "execution_count": 28,
   "metadata": {
    "collapsed": true
   },
   "outputs": [],
   "source": [
    "param = { 'eval_metric':'mae', 'objective':'reg:linear' }\n",
    "num_rounds = 2"
   ]
  },
  {
   "cell_type": "code",
   "execution_count": 29,
   "metadata": {
    "collapsed": true
   },
   "outputs": [],
   "source": [
    "xgb1 = xgb.train(param, dtrain_tr, num_rounds)"
   ]
  },
  {
   "cell_type": "code",
   "execution_count": 30,
   "metadata": {
    "collapsed": true
   },
   "outputs": [],
   "source": [
    "xgb1_pred = xgb1.predict(dtest_val)"
   ]
  },
  {
   "cell_type": "code",
   "execution_count": 31,
   "metadata": {
    "collapsed": false
   },
   "outputs": [
    {
     "data": {
      "text/plain": [
       "1679.1210906448298"
      ]
     },
     "execution_count": 31,
     "metadata": {},
     "output_type": "execute_result"
    }
   ],
   "source": [
    "xgb1_mae = mean_absolute_error(yval, xgb1_pred, sample_weight=None, multioutput='uniform_average')\n",
    "xgb1_mae"
   ]
  },
  {
   "cell_type": "markdown",
   "metadata": {},
   "source": [
    "#### 2. Default XGBoost - with 100 rounds"
   ]
  },
  {
   "cell_type": "code",
   "execution_count": 32,
   "metadata": {
    "collapsed": true
   },
   "outputs": [],
   "source": [
    "# specify parameters via map\n",
    "#param = {'max_depth':2, 'eta':1, 'silent':1, 'objective':'reg:linear' }\n",
    "param = { 'eval_metric':'mae', 'objective':'reg:linear' }\n",
    "num_rounds = 100"
   ]
  },
  {
   "cell_type": "code",
   "execution_count": 33,
   "metadata": {
    "collapsed": false
   },
   "outputs": [],
   "source": [
    "xgb2 = xgb.train(param, dtrain_tr, num_rounds)"
   ]
  },
  {
   "cell_type": "code",
   "execution_count": 34,
   "metadata": {
    "collapsed": false
   },
   "outputs": [],
   "source": [
    "# make prediction\n",
    "xgb2_pred = xgb2.predict(dtest_val)"
   ]
  },
  {
   "cell_type": "code",
   "execution_count": 35,
   "metadata": {
    "collapsed": false
   },
   "outputs": [
    {
     "data": {
      "text/plain": [
       "1201.2805777230014"
      ]
     },
     "execution_count": 35,
     "metadata": {},
     "output_type": "execute_result"
    }
   ],
   "source": [
    "xgb2_mae = mean_absolute_error(yval, xgb2_pred, sample_weight=None, multioutput='uniform_average')\n",
    "xgb2_mae"
   ]
  },
  {
   "cell_type": "markdown",
   "metadata": {},
   "source": [
    "#### 3.1. XGBoost CV - Set learning rate to 0.3 and perfrom cv to find optimal num_rounds"
   ]
  },
  {
   "cell_type": "code",
   "execution_count": 36,
   "metadata": {
    "collapsed": true
   },
   "outputs": [],
   "source": [
    "param = {'eta':0.3, 'eval_metric':'mae', 'objective':'reg:linear' }"
   ]
  },
  {
   "cell_type": "code",
   "execution_count": 37,
   "metadata": {
    "collapsed": false
   },
   "outputs": [
    {
     "name": "stdout",
     "output_type": "stream",
     "text": [
      "--- 160.24571180343628 seconds ---\n"
     ]
    }
   ],
   "source": [
    "start_time = time.time()\n",
    "xgb_cv = xgb.cv(param, dtrain_tr, num_boost_round=1000, nfold=5, early_stopping_rounds=50)\n",
    "print(\"--- %s seconds ---\" % (time.time() - start_time))"
   ]
  },
  {
   "cell_type": "code",
   "execution_count": 38,
   "metadata": {
    "collapsed": false
   },
   "outputs": [
    {
     "data": {
      "text/html": [
       "<div>\n",
       "<table border=\"1\" class=\"dataframe\">\n",
       "  <thead>\n",
       "    <tr style=\"text-align: right;\">\n",
       "      <th></th>\n",
       "      <th>test-mae-mean</th>\n",
       "      <th>test-mae-std</th>\n",
       "      <th>train-mae-mean</th>\n",
       "      <th>train-mae-std</th>\n",
       "    </tr>\n",
       "  </thead>\n",
       "  <tbody>\n",
       "    <tr>\n",
       "      <th>0</th>\n",
       "      <td>2158.680811</td>\n",
       "      <td>12.312323</td>\n",
       "      <td>2157.669531</td>\n",
       "      <td>2.731807</td>\n",
       "    </tr>\n",
       "    <tr>\n",
       "      <th>1</th>\n",
       "      <td>1675.954981</td>\n",
       "      <td>9.619065</td>\n",
       "      <td>1673.415234</td>\n",
       "      <td>4.620844</td>\n",
       "    </tr>\n",
       "    <tr>\n",
       "      <th>2</th>\n",
       "      <td>1455.545874</td>\n",
       "      <td>11.433872</td>\n",
       "      <td>1450.544360</td>\n",
       "      <td>5.889285</td>\n",
       "    </tr>\n",
       "    <tr>\n",
       "      <th>3</th>\n",
       "      <td>1356.556274</td>\n",
       "      <td>11.559346</td>\n",
       "      <td>1348.434888</td>\n",
       "      <td>4.843428</td>\n",
       "    </tr>\n",
       "    <tr>\n",
       "      <th>4</th>\n",
       "      <td>1315.894312</td>\n",
       "      <td>12.392191</td>\n",
       "      <td>1304.443555</td>\n",
       "      <td>4.589680</td>\n",
       "    </tr>\n",
       "    <tr>\n",
       "      <th>5</th>\n",
       "      <td>1294.572729</td>\n",
       "      <td>10.651805</td>\n",
       "      <td>1279.833813</td>\n",
       "      <td>2.885116</td>\n",
       "    </tr>\n",
       "    <tr>\n",
       "      <th>6</th>\n",
       "      <td>1283.791040</td>\n",
       "      <td>9.454872</td>\n",
       "      <td>1266.412940</td>\n",
       "      <td>2.200539</td>\n",
       "    </tr>\n",
       "    <tr>\n",
       "      <th>7</th>\n",
       "      <td>1279.882129</td>\n",
       "      <td>10.392954</td>\n",
       "      <td>1259.739063</td>\n",
       "      <td>0.978944</td>\n",
       "    </tr>\n",
       "    <tr>\n",
       "      <th>8</th>\n",
       "      <td>1274.369922</td>\n",
       "      <td>9.392333</td>\n",
       "      <td>1252.147949</td>\n",
       "      <td>1.535901</td>\n",
       "    </tr>\n",
       "    <tr>\n",
       "      <th>9</th>\n",
       "      <td>1268.736157</td>\n",
       "      <td>9.737504</td>\n",
       "      <td>1244.062622</td>\n",
       "      <td>1.165354</td>\n",
       "    </tr>\n",
       "    <tr>\n",
       "      <th>10</th>\n",
       "      <td>1263.215723</td>\n",
       "      <td>8.213037</td>\n",
       "      <td>1236.525586</td>\n",
       "      <td>2.190984</td>\n",
       "    </tr>\n",
       "    <tr>\n",
       "      <th>11</th>\n",
       "      <td>1257.858642</td>\n",
       "      <td>8.117084</td>\n",
       "      <td>1229.469531</td>\n",
       "      <td>2.171894</td>\n",
       "    </tr>\n",
       "    <tr>\n",
       "      <th>12</th>\n",
       "      <td>1252.423731</td>\n",
       "      <td>8.301958</td>\n",
       "      <td>1222.775806</td>\n",
       "      <td>2.210081</td>\n",
       "    </tr>\n",
       "    <tr>\n",
       "      <th>13</th>\n",
       "      <td>1248.327270</td>\n",
       "      <td>8.005416</td>\n",
       "      <td>1217.132446</td>\n",
       "      <td>2.736647</td>\n",
       "    </tr>\n",
       "    <tr>\n",
       "      <th>14</th>\n",
       "      <td>1244.680762</td>\n",
       "      <td>7.883098</td>\n",
       "      <td>1211.597510</td>\n",
       "      <td>2.707734</td>\n",
       "    </tr>\n",
       "    <tr>\n",
       "      <th>15</th>\n",
       "      <td>1239.917920</td>\n",
       "      <td>7.822337</td>\n",
       "      <td>1205.710303</td>\n",
       "      <td>2.821403</td>\n",
       "    </tr>\n",
       "    <tr>\n",
       "      <th>16</th>\n",
       "      <td>1236.230640</td>\n",
       "      <td>7.366119</td>\n",
       "      <td>1200.895728</td>\n",
       "      <td>2.989586</td>\n",
       "    </tr>\n",
       "    <tr>\n",
       "      <th>17</th>\n",
       "      <td>1232.708008</td>\n",
       "      <td>7.203983</td>\n",
       "      <td>1195.964404</td>\n",
       "      <td>2.879884</td>\n",
       "    </tr>\n",
       "    <tr>\n",
       "      <th>18</th>\n",
       "      <td>1230.283911</td>\n",
       "      <td>6.987367</td>\n",
       "      <td>1192.093945</td>\n",
       "      <td>2.838878</td>\n",
       "    </tr>\n",
       "    <tr>\n",
       "      <th>19</th>\n",
       "      <td>1227.873438</td>\n",
       "      <td>6.670671</td>\n",
       "      <td>1188.327612</td>\n",
       "      <td>2.835096</td>\n",
       "    </tr>\n",
       "    <tr>\n",
       "      <th>20</th>\n",
       "      <td>1225.800830</td>\n",
       "      <td>6.736268</td>\n",
       "      <td>1184.880371</td>\n",
       "      <td>2.949411</td>\n",
       "    </tr>\n",
       "    <tr>\n",
       "      <th>21</th>\n",
       "      <td>1224.448535</td>\n",
       "      <td>6.379764</td>\n",
       "      <td>1182.259766</td>\n",
       "      <td>2.934033</td>\n",
       "    </tr>\n",
       "    <tr>\n",
       "      <th>22</th>\n",
       "      <td>1222.650708</td>\n",
       "      <td>6.217444</td>\n",
       "      <td>1178.892529</td>\n",
       "      <td>2.697272</td>\n",
       "    </tr>\n",
       "    <tr>\n",
       "      <th>23</th>\n",
       "      <td>1221.303076</td>\n",
       "      <td>6.200318</td>\n",
       "      <td>1176.334936</td>\n",
       "      <td>2.926787</td>\n",
       "    </tr>\n",
       "    <tr>\n",
       "      <th>24</th>\n",
       "      <td>1219.707226</td>\n",
       "      <td>5.860234</td>\n",
       "      <td>1173.614746</td>\n",
       "      <td>2.814727</td>\n",
       "    </tr>\n",
       "    <tr>\n",
       "      <th>25</th>\n",
       "      <td>1218.467822</td>\n",
       "      <td>6.175129</td>\n",
       "      <td>1170.920996</td>\n",
       "      <td>2.785032</td>\n",
       "    </tr>\n",
       "    <tr>\n",
       "      <th>26</th>\n",
       "      <td>1217.349023</td>\n",
       "      <td>5.989937</td>\n",
       "      <td>1168.669726</td>\n",
       "      <td>3.000332</td>\n",
       "    </tr>\n",
       "    <tr>\n",
       "      <th>27</th>\n",
       "      <td>1215.924951</td>\n",
       "      <td>6.083216</td>\n",
       "      <td>1166.191211</td>\n",
       "      <td>2.809540</td>\n",
       "    </tr>\n",
       "    <tr>\n",
       "      <th>28</th>\n",
       "      <td>1215.000488</td>\n",
       "      <td>6.191092</td>\n",
       "      <td>1164.293237</td>\n",
       "      <td>2.820966</td>\n",
       "    </tr>\n",
       "    <tr>\n",
       "      <th>29</th>\n",
       "      <td>1213.996826</td>\n",
       "      <td>6.488856</td>\n",
       "      <td>1162.304077</td>\n",
       "      <td>2.737046</td>\n",
       "    </tr>\n",
       "    <tr>\n",
       "      <th>...</th>\n",
       "      <td>...</td>\n",
       "      <td>...</td>\n",
       "      <td>...</td>\n",
       "      <td>...</td>\n",
       "    </tr>\n",
       "    <tr>\n",
       "      <th>74</th>\n",
       "      <td>1203.621924</td>\n",
       "      <td>7.519582</td>\n",
       "      <td>1115.190894</td>\n",
       "      <td>2.821927</td>\n",
       "    </tr>\n",
       "    <tr>\n",
       "      <th>75</th>\n",
       "      <td>1203.561792</td>\n",
       "      <td>7.526587</td>\n",
       "      <td>1114.182593</td>\n",
       "      <td>2.768771</td>\n",
       "    </tr>\n",
       "    <tr>\n",
       "      <th>76</th>\n",
       "      <td>1203.490698</td>\n",
       "      <td>7.429409</td>\n",
       "      <td>1113.297290</td>\n",
       "      <td>2.579134</td>\n",
       "    </tr>\n",
       "    <tr>\n",
       "      <th>77</th>\n",
       "      <td>1203.303101</td>\n",
       "      <td>7.281226</td>\n",
       "      <td>1112.677661</td>\n",
       "      <td>2.756826</td>\n",
       "    </tr>\n",
       "    <tr>\n",
       "      <th>78</th>\n",
       "      <td>1203.227612</td>\n",
       "      <td>7.211980</td>\n",
       "      <td>1111.993457</td>\n",
       "      <td>2.827776</td>\n",
       "    </tr>\n",
       "    <tr>\n",
       "      <th>79</th>\n",
       "      <td>1203.282666</td>\n",
       "      <td>7.174412</td>\n",
       "      <td>1111.501343</td>\n",
       "      <td>2.814977</td>\n",
       "    </tr>\n",
       "    <tr>\n",
       "      <th>80</th>\n",
       "      <td>1203.085913</td>\n",
       "      <td>7.158123</td>\n",
       "      <td>1110.706738</td>\n",
       "      <td>2.727039</td>\n",
       "    </tr>\n",
       "    <tr>\n",
       "      <th>81</th>\n",
       "      <td>1202.981225</td>\n",
       "      <td>7.227347</td>\n",
       "      <td>1109.899414</td>\n",
       "      <td>2.489286</td>\n",
       "    </tr>\n",
       "    <tr>\n",
       "      <th>82</th>\n",
       "      <td>1202.819824</td>\n",
       "      <td>7.096355</td>\n",
       "      <td>1109.321143</td>\n",
       "      <td>2.367388</td>\n",
       "    </tr>\n",
       "    <tr>\n",
       "      <th>83</th>\n",
       "      <td>1202.914746</td>\n",
       "      <td>7.085178</td>\n",
       "      <td>1108.753760</td>\n",
       "      <td>2.512152</td>\n",
       "    </tr>\n",
       "    <tr>\n",
       "      <th>84</th>\n",
       "      <td>1202.933691</td>\n",
       "      <td>7.164598</td>\n",
       "      <td>1108.040503</td>\n",
       "      <td>2.707811</td>\n",
       "    </tr>\n",
       "    <tr>\n",
       "      <th>85</th>\n",
       "      <td>1202.984668</td>\n",
       "      <td>7.110738</td>\n",
       "      <td>1107.266455</td>\n",
       "      <td>2.802485</td>\n",
       "    </tr>\n",
       "    <tr>\n",
       "      <th>86</th>\n",
       "      <td>1202.943555</td>\n",
       "      <td>7.076208</td>\n",
       "      <td>1106.740723</td>\n",
       "      <td>2.769407</td>\n",
       "    </tr>\n",
       "    <tr>\n",
       "      <th>87</th>\n",
       "      <td>1202.942310</td>\n",
       "      <td>7.130719</td>\n",
       "      <td>1106.292285</td>\n",
       "      <td>2.619148</td>\n",
       "    </tr>\n",
       "    <tr>\n",
       "      <th>88</th>\n",
       "      <td>1202.794190</td>\n",
       "      <td>7.174508</td>\n",
       "      <td>1105.571997</td>\n",
       "      <td>2.905421</td>\n",
       "    </tr>\n",
       "    <tr>\n",
       "      <th>89</th>\n",
       "      <td>1202.843530</td>\n",
       "      <td>7.187234</td>\n",
       "      <td>1105.072363</td>\n",
       "      <td>2.922412</td>\n",
       "    </tr>\n",
       "    <tr>\n",
       "      <th>90</th>\n",
       "      <td>1202.836523</td>\n",
       "      <td>7.200775</td>\n",
       "      <td>1104.563257</td>\n",
       "      <td>2.894675</td>\n",
       "    </tr>\n",
       "    <tr>\n",
       "      <th>91</th>\n",
       "      <td>1202.850855</td>\n",
       "      <td>7.117856</td>\n",
       "      <td>1103.894190</td>\n",
       "      <td>2.786290</td>\n",
       "    </tr>\n",
       "    <tr>\n",
       "      <th>92</th>\n",
       "      <td>1202.924951</td>\n",
       "      <td>7.225630</td>\n",
       "      <td>1103.463208</td>\n",
       "      <td>2.717341</td>\n",
       "    </tr>\n",
       "    <tr>\n",
       "      <th>93</th>\n",
       "      <td>1202.944458</td>\n",
       "      <td>7.160458</td>\n",
       "      <td>1102.748560</td>\n",
       "      <td>2.498745</td>\n",
       "    </tr>\n",
       "    <tr>\n",
       "      <th>94</th>\n",
       "      <td>1202.969190</td>\n",
       "      <td>7.181713</td>\n",
       "      <td>1102.137915</td>\n",
       "      <td>2.222118</td>\n",
       "    </tr>\n",
       "    <tr>\n",
       "      <th>95</th>\n",
       "      <td>1202.818017</td>\n",
       "      <td>7.174796</td>\n",
       "      <td>1101.168213</td>\n",
       "      <td>2.331188</td>\n",
       "    </tr>\n",
       "    <tr>\n",
       "      <th>96</th>\n",
       "      <td>1202.912475</td>\n",
       "      <td>7.178356</td>\n",
       "      <td>1100.401318</td>\n",
       "      <td>2.465849</td>\n",
       "    </tr>\n",
       "    <tr>\n",
       "      <th>97</th>\n",
       "      <td>1202.669629</td>\n",
       "      <td>7.393315</td>\n",
       "      <td>1099.673755</td>\n",
       "      <td>2.538817</td>\n",
       "    </tr>\n",
       "    <tr>\n",
       "      <th>98</th>\n",
       "      <td>1202.769507</td>\n",
       "      <td>7.419880</td>\n",
       "      <td>1099.136182</td>\n",
       "      <td>2.666497</td>\n",
       "    </tr>\n",
       "    <tr>\n",
       "      <th>99</th>\n",
       "      <td>1202.702954</td>\n",
       "      <td>7.533931</td>\n",
       "      <td>1098.325342</td>\n",
       "      <td>2.835452</td>\n",
       "    </tr>\n",
       "    <tr>\n",
       "      <th>100</th>\n",
       "      <td>1202.735889</td>\n",
       "      <td>7.517722</td>\n",
       "      <td>1097.836890</td>\n",
       "      <td>2.827522</td>\n",
       "    </tr>\n",
       "    <tr>\n",
       "      <th>101</th>\n",
       "      <td>1202.702588</td>\n",
       "      <td>7.501221</td>\n",
       "      <td>1097.426123</td>\n",
       "      <td>2.877838</td>\n",
       "    </tr>\n",
       "    <tr>\n",
       "      <th>102</th>\n",
       "      <td>1202.704736</td>\n",
       "      <td>7.577173</td>\n",
       "      <td>1096.748022</td>\n",
       "      <td>2.928188</td>\n",
       "    </tr>\n",
       "    <tr>\n",
       "      <th>103</th>\n",
       "      <td>1202.627588</td>\n",
       "      <td>7.562366</td>\n",
       "      <td>1096.087695</td>\n",
       "      <td>3.024768</td>\n",
       "    </tr>\n",
       "  </tbody>\n",
       "</table>\n",
       "<p>104 rows × 4 columns</p>\n",
       "</div>"
      ],
      "text/plain": [
       "     test-mae-mean  test-mae-std  train-mae-mean  train-mae-std\n",
       "0      2158.680811     12.312323     2157.669531       2.731807\n",
       "1      1675.954981      9.619065     1673.415234       4.620844\n",
       "2      1455.545874     11.433872     1450.544360       5.889285\n",
       "3      1356.556274     11.559346     1348.434888       4.843428\n",
       "4      1315.894312     12.392191     1304.443555       4.589680\n",
       "5      1294.572729     10.651805     1279.833813       2.885116\n",
       "6      1283.791040      9.454872     1266.412940       2.200539\n",
       "7      1279.882129     10.392954     1259.739063       0.978944\n",
       "8      1274.369922      9.392333     1252.147949       1.535901\n",
       "9      1268.736157      9.737504     1244.062622       1.165354\n",
       "10     1263.215723      8.213037     1236.525586       2.190984\n",
       "11     1257.858642      8.117084     1229.469531       2.171894\n",
       "12     1252.423731      8.301958     1222.775806       2.210081\n",
       "13     1248.327270      8.005416     1217.132446       2.736647\n",
       "14     1244.680762      7.883098     1211.597510       2.707734\n",
       "15     1239.917920      7.822337     1205.710303       2.821403\n",
       "16     1236.230640      7.366119     1200.895728       2.989586\n",
       "17     1232.708008      7.203983     1195.964404       2.879884\n",
       "18     1230.283911      6.987367     1192.093945       2.838878\n",
       "19     1227.873438      6.670671     1188.327612       2.835096\n",
       "20     1225.800830      6.736268     1184.880371       2.949411\n",
       "21     1224.448535      6.379764     1182.259766       2.934033\n",
       "22     1222.650708      6.217444     1178.892529       2.697272\n",
       "23     1221.303076      6.200318     1176.334936       2.926787\n",
       "24     1219.707226      5.860234     1173.614746       2.814727\n",
       "25     1218.467822      6.175129     1170.920996       2.785032\n",
       "26     1217.349023      5.989937     1168.669726       3.000332\n",
       "27     1215.924951      6.083216     1166.191211       2.809540\n",
       "28     1215.000488      6.191092     1164.293237       2.820966\n",
       "29     1213.996826      6.488856     1162.304077       2.737046\n",
       "..             ...           ...             ...            ...\n",
       "74     1203.621924      7.519582     1115.190894       2.821927\n",
       "75     1203.561792      7.526587     1114.182593       2.768771\n",
       "76     1203.490698      7.429409     1113.297290       2.579134\n",
       "77     1203.303101      7.281226     1112.677661       2.756826\n",
       "78     1203.227612      7.211980     1111.993457       2.827776\n",
       "79     1203.282666      7.174412     1111.501343       2.814977\n",
       "80     1203.085913      7.158123     1110.706738       2.727039\n",
       "81     1202.981225      7.227347     1109.899414       2.489286\n",
       "82     1202.819824      7.096355     1109.321143       2.367388\n",
       "83     1202.914746      7.085178     1108.753760       2.512152\n",
       "84     1202.933691      7.164598     1108.040503       2.707811\n",
       "85     1202.984668      7.110738     1107.266455       2.802485\n",
       "86     1202.943555      7.076208     1106.740723       2.769407\n",
       "87     1202.942310      7.130719     1106.292285       2.619148\n",
       "88     1202.794190      7.174508     1105.571997       2.905421\n",
       "89     1202.843530      7.187234     1105.072363       2.922412\n",
       "90     1202.836523      7.200775     1104.563257       2.894675\n",
       "91     1202.850855      7.117856     1103.894190       2.786290\n",
       "92     1202.924951      7.225630     1103.463208       2.717341\n",
       "93     1202.944458      7.160458     1102.748560       2.498745\n",
       "94     1202.969190      7.181713     1102.137915       2.222118\n",
       "95     1202.818017      7.174796     1101.168213       2.331188\n",
       "96     1202.912475      7.178356     1100.401318       2.465849\n",
       "97     1202.669629      7.393315     1099.673755       2.538817\n",
       "98     1202.769507      7.419880     1099.136182       2.666497\n",
       "99     1202.702954      7.533931     1098.325342       2.835452\n",
       "100    1202.735889      7.517722     1097.836890       2.827522\n",
       "101    1202.702588      7.501221     1097.426123       2.877838\n",
       "102    1202.704736      7.577173     1096.748022       2.928188\n",
       "103    1202.627588      7.562366     1096.087695       3.024768\n",
       "\n",
       "[104 rows x 4 columns]"
      ]
     },
     "execution_count": 38,
     "metadata": {},
     "output_type": "execute_result"
    }
   ],
   "source": [
    "xgb_cv"
   ]
  },
  {
   "cell_type": "code",
   "execution_count": 39,
   "metadata": {
    "collapsed": false
   },
   "outputs": [
    {
     "data": {
      "text/plain": [
       "<matplotlib.axes._subplots.AxesSubplot at 0x7f131f2caa20>"
      ]
     },
     "execution_count": 39,
     "metadata": {},
     "output_type": "execute_result"
    },
    {
     "data": {
      "image/png": "[encoded data removed]",
      "text/plain": [
       "<matplotlib.figure.Figure at 0x7f131e8079e8>"
      ]
     },
     "metadata": {},
     "output_type": "display_data"
    }
   ],
   "source": [
    "xgb_cv.plot(y=['test-mae-mean', 'train-mae-mean'])"
   ]
  },
  {
   "cell_type": "code",
   "execution_count": 40,
   "metadata": {
    "collapsed": false
   },
   "outputs": [
    {
     "data": {
      "text/plain": [
       "<matplotlib.axes._subplots.AxesSubplot at 0x7f131e89ceb8>"
      ]
     },
     "execution_count": 40,
     "metadata": {},
     "output_type": "execute_result"
    },
    {
     "data": {
      "image/png": "[encoded data removed]",
      "text/plain": [
       "<matplotlib.figure.Figure at 0x7f131e8c1780>"
      ]
     },
     "metadata": {},
     "output_type": "display_data"
    }
   ],
   "source": [
    "xgb_cv[3:].plot(y=['test-mae-mean', 'train-mae-mean'], secondary_y='test-mae-mean')"
   ]
  },
  {
   "cell_type": "code",
   "execution_count": 41,
   "metadata": {
    "collapsed": false
   },
   "outputs": [
    {
     "data": {
      "text/plain": [
       "103"
      ]
     },
     "execution_count": 41,
     "metadata": {},
     "output_type": "execute_result"
    }
   ],
   "source": [
    "xgb_cv['test-mae-mean'].argmin()"
   ]
  },
  {
   "cell_type": "code",
   "execution_count": 42,
   "metadata": {
    "collapsed": false
   },
   "outputs": [
    {
     "data": {
      "text/plain": [
       "test-mae-mean     1202.627588\n",
       "test-mae-std         7.562366\n",
       "train-mae-mean    1096.087695\n",
       "train-mae-std        3.024768\n",
       "Name: 103, dtype: float64"
      ]
     },
     "execution_count": 42,
     "metadata": {},
     "output_type": "execute_result"
    }
   ],
   "source": [
    "xgb_cv.loc[103]"
   ]
  },
  {
   "cell_type": "code",
   "execution_count": 43,
   "metadata": {
    "collapsed": true
   },
   "outputs": [],
   "source": [
    "num_rounds = xgb_cv['test-mae-mean'].argmin()"
   ]
  },
  {
   "cell_type": "markdown",
   "metadata": {},
   "source": [
    "#### 3.2. XGBoost CV - refit model with estimated num_rounds"
   ]
  },
  {
   "cell_type": "code",
   "execution_count": 44,
   "metadata": {
    "collapsed": false
   },
   "outputs": [
    {
     "name": "stdout",
     "output_type": "stream",
     "text": [
      "--- 21.6729896068573 seconds ---\n"
     ]
    }
   ],
   "source": [
    "start_time = time.time()\n",
    "xgb3 = xgb.train(param, dtrain_tr, num_rounds)\n",
    "print(\"--- %s seconds ---\" % (time.time() - start_time))"
   ]
  },
  {
   "cell_type": "code",
   "execution_count": 45,
   "metadata": {
    "collapsed": true
   },
   "outputs": [],
   "source": [
    "xgb3_pred = xgb3.predict(dtest_val)"
   ]
  },
  {
   "cell_type": "code",
   "execution_count": 46,
   "metadata": {
    "collapsed": false
   },
   "outputs": [
    {
     "data": {
      "text/plain": [
       "1201.4168691291152"
      ]
     },
     "execution_count": 46,
     "metadata": {},
     "output_type": "execute_result"
    }
   ],
   "source": [
    "xgb3_mae = mean_absolute_error(yval, xgb3_pred, sample_weight=None, multioutput='uniform_average')\n",
    "xgb3_mae"
   ]
  },
  {
   "cell_type": "code",
   "execution_count": 47,
   "metadata": {
    "collapsed": false
   },
   "outputs": [
    {
     "data": {
      "text/plain": [
       "<matplotlib.axes._subplots.AxesSubplot at 0x7f13011b7a58>"
      ]
     },
     "execution_count": 47,
     "metadata": {},
     "output_type": "execute_result"
    },
    {
     "data": {
      "image/png": "[encoded data removed]",
      "text/plain": [
       "<matplotlib.figure.Figure at 0x7f131dc16cf8>"
      ]
     },
     "metadata": {},
     "output_type": "display_data"
    }
   ],
   "source": [
    "xgb.plot_importance(xgb3)"
   ]
  },
  {
   "cell_type": "code",
   "execution_count": 48,
   "metadata": {
    "collapsed": false
   },
   "outputs": [],
   "source": [
    "imps = pd.Series(xgb3.get_fscore()).sort_values()"
   ]
  },
  {
   "cell_type": "code",
   "execution_count": 49,
   "metadata": {
    "collapsed": false
   },
   "outputs": [
    {
     "data": {
      "text/plain": [
       "<matplotlib.text.Text at 0x7f130aa80860>"
      ]
     },
     "execution_count": 49,
     "metadata": {},
     "output_type": "execute_result"
    },
    {
     "data": {
      "image/png": "[encoded data removed]",
      "text/plain": [
       "<matplotlib.figure.Figure at 0x7f130aa78240>"
      ]
     },
     "metadata": {},
     "output_type": "display_data"
    }
   ],
   "source": [
    "imps[400:].plot(kind='bar', figsize=(15,6),logy=True, title='Feature Importances')\n",
    "plt.ylabel('Feature Importance Score')"
   ]
  },
  {
   "cell_type": "markdown",
   "metadata": {},
   "source": [
    "#### 4.1. XGBoost CV - Lower learning rate to 0.1 and perfrom cv to find optimal num_rounds"
   ]
  },
  {
   "cell_type": "code",
   "execution_count": 50,
   "metadata": {
    "collapsed": true
   },
   "outputs": [],
   "source": [
    "param = {'eta':0.1, 'eval_metric':'mae', 'objective':'reg:linear' }"
   ]
  },
  {
   "cell_type": "code",
   "execution_count": 51,
   "metadata": {
    "collapsed": false
   },
   "outputs": [
    {
     "name": "stdout",
     "output_type": "stream",
     "text": [
      "--- 444.0704128742218 seconds ---\n"
     ]
    }
   ],
   "source": [
    "start_time = time.time()\n",
    "xgb_cv2 = xgb.cv(param, dtrain_tr, num_boost_round=1000, nfold=5, early_stopping_rounds=50)\n",
    "print(\"--- %s seconds ---\" % (time.time() - start_time))"
   ]
  },
  {
   "cell_type": "code",
   "execution_count": 52,
   "metadata": {
    "collapsed": false
   },
   "outputs": [
    {
     "data": {
      "text/html": [
       "<div>\n",
       "<table border=\"1\" class=\"dataframe\">\n",
       "  <thead>\n",
       "    <tr style=\"text-align: right;\">\n",
       "      <th></th>\n",
       "      <th>test-mae-mean</th>\n",
       "      <th>test-mae-std</th>\n",
       "      <th>train-mae-mean</th>\n",
       "      <th>train-mae-std</th>\n",
       "    </tr>\n",
       "  </thead>\n",
       "  <tbody>\n",
       "    <tr>\n",
       "      <th>0</th>\n",
       "      <td>2734.748340</td>\n",
       "      <td>13.390094</td>\n",
       "      <td>2734.667236</td>\n",
       "      <td>3.260176</td>\n",
       "    </tr>\n",
       "    <tr>\n",
       "      <th>1</th>\n",
       "      <td>2467.183447</td>\n",
       "      <td>12.685852</td>\n",
       "      <td>2466.739648</td>\n",
       "      <td>2.979399</td>\n",
       "    </tr>\n",
       "    <tr>\n",
       "      <th>2</th>\n",
       "      <td>2235.907813</td>\n",
       "      <td>12.343284</td>\n",
       "      <td>2235.286670</td>\n",
       "      <td>2.896660</td>\n",
       "    </tr>\n",
       "    <tr>\n",
       "      <th>3</th>\n",
       "      <td>2042.556421</td>\n",
       "      <td>12.403301</td>\n",
       "      <td>2041.406641</td>\n",
       "      <td>2.549383</td>\n",
       "    </tr>\n",
       "    <tr>\n",
       "      <th>4</th>\n",
       "      <td>1883.062158</td>\n",
       "      <td>11.962605</td>\n",
       "      <td>1881.398633</td>\n",
       "      <td>2.597335</td>\n",
       "    </tr>\n",
       "    <tr>\n",
       "      <th>5</th>\n",
       "      <td>1753.693189</td>\n",
       "      <td>11.625796</td>\n",
       "      <td>1751.311743</td>\n",
       "      <td>2.656002</td>\n",
       "    </tr>\n",
       "    <tr>\n",
       "      <th>6</th>\n",
       "      <td>1650.430981</td>\n",
       "      <td>11.829814</td>\n",
       "      <td>1647.446314</td>\n",
       "      <td>1.876082</td>\n",
       "    </tr>\n",
       "    <tr>\n",
       "      <th>7</th>\n",
       "      <td>1568.016065</td>\n",
       "      <td>12.540847</td>\n",
       "      <td>1564.213159</td>\n",
       "      <td>1.758753</td>\n",
       "    </tr>\n",
       "    <tr>\n",
       "      <th>8</th>\n",
       "      <td>1503.380151</td>\n",
       "      <td>12.557919</td>\n",
       "      <td>1498.715112</td>\n",
       "      <td>2.142991</td>\n",
       "    </tr>\n",
       "    <tr>\n",
       "      <th>9</th>\n",
       "      <td>1453.076392</td>\n",
       "      <td>12.326726</td>\n",
       "      <td>1447.535620</td>\n",
       "      <td>2.078956</td>\n",
       "    </tr>\n",
       "    <tr>\n",
       "      <th>10</th>\n",
       "      <td>1413.052881</td>\n",
       "      <td>11.941609</td>\n",
       "      <td>1406.459326</td>\n",
       "      <td>2.501098</td>\n",
       "    </tr>\n",
       "    <tr>\n",
       "      <th>11</th>\n",
       "      <td>1382.235669</td>\n",
       "      <td>12.143012</td>\n",
       "      <td>1374.798388</td>\n",
       "      <td>2.047024</td>\n",
       "    </tr>\n",
       "    <tr>\n",
       "      <th>12</th>\n",
       "      <td>1357.672119</td>\n",
       "      <td>11.386639</td>\n",
       "      <td>1349.115234</td>\n",
       "      <td>2.301872</td>\n",
       "    </tr>\n",
       "    <tr>\n",
       "      <th>13</th>\n",
       "      <td>1338.845410</td>\n",
       "      <td>11.946502</td>\n",
       "      <td>1329.128247</td>\n",
       "      <td>1.389065</td>\n",
       "    </tr>\n",
       "    <tr>\n",
       "      <th>14</th>\n",
       "      <td>1323.644824</td>\n",
       "      <td>11.795020</td>\n",
       "      <td>1312.882764</td>\n",
       "      <td>2.001640</td>\n",
       "    </tr>\n",
       "    <tr>\n",
       "      <th>15</th>\n",
       "      <td>1311.758838</td>\n",
       "      <td>11.067322</td>\n",
       "      <td>1300.123706</td>\n",
       "      <td>2.030391</td>\n",
       "    </tr>\n",
       "    <tr>\n",
       "      <th>16</th>\n",
       "      <td>1302.867725</td>\n",
       "      <td>10.500964</td>\n",
       "      <td>1290.268310</td>\n",
       "      <td>1.717162</td>\n",
       "    </tr>\n",
       "    <tr>\n",
       "      <th>17</th>\n",
       "      <td>1296.057861</td>\n",
       "      <td>10.461332</td>\n",
       "      <td>1282.474878</td>\n",
       "      <td>1.385074</td>\n",
       "    </tr>\n",
       "    <tr>\n",
       "      <th>18</th>\n",
       "      <td>1290.393799</td>\n",
       "      <td>10.366740</td>\n",
       "      <td>1275.863013</td>\n",
       "      <td>1.451574</td>\n",
       "    </tr>\n",
       "    <tr>\n",
       "      <th>19</th>\n",
       "      <td>1285.199951</td>\n",
       "      <td>10.414008</td>\n",
       "      <td>1269.762842</td>\n",
       "      <td>1.246797</td>\n",
       "    </tr>\n",
       "    <tr>\n",
       "      <th>20</th>\n",
       "      <td>1281.091821</td>\n",
       "      <td>10.135177</td>\n",
       "      <td>1265.009863</td>\n",
       "      <td>1.319969</td>\n",
       "    </tr>\n",
       "    <tr>\n",
       "      <th>21</th>\n",
       "      <td>1277.122681</td>\n",
       "      <td>10.369048</td>\n",
       "      <td>1260.273731</td>\n",
       "      <td>1.016155</td>\n",
       "    </tr>\n",
       "    <tr>\n",
       "      <th>22</th>\n",
       "      <td>1273.826245</td>\n",
       "      <td>10.351547</td>\n",
       "      <td>1256.089941</td>\n",
       "      <td>0.756383</td>\n",
       "    </tr>\n",
       "    <tr>\n",
       "      <th>23</th>\n",
       "      <td>1271.119214</td>\n",
       "      <td>10.292408</td>\n",
       "      <td>1252.642798</td>\n",
       "      <td>1.120168</td>\n",
       "    </tr>\n",
       "    <tr>\n",
       "      <th>24</th>\n",
       "      <td>1269.501294</td>\n",
       "      <td>10.119158</td>\n",
       "      <td>1250.106006</td>\n",
       "      <td>0.937354</td>\n",
       "    </tr>\n",
       "    <tr>\n",
       "      <th>25</th>\n",
       "      <td>1266.585132</td>\n",
       "      <td>9.549628</td>\n",
       "      <td>1246.378296</td>\n",
       "      <td>1.224745</td>\n",
       "    </tr>\n",
       "    <tr>\n",
       "      <th>26</th>\n",
       "      <td>1264.434912</td>\n",
       "      <td>9.645966</td>\n",
       "      <td>1243.649878</td>\n",
       "      <td>1.035408</td>\n",
       "    </tr>\n",
       "    <tr>\n",
       "      <th>27</th>\n",
       "      <td>1262.773511</td>\n",
       "      <td>9.891420</td>\n",
       "      <td>1241.187988</td>\n",
       "      <td>0.979313</td>\n",
       "    </tr>\n",
       "    <tr>\n",
       "      <th>28</th>\n",
       "      <td>1261.336426</td>\n",
       "      <td>9.734792</td>\n",
       "      <td>1239.063232</td>\n",
       "      <td>1.072620</td>\n",
       "    </tr>\n",
       "    <tr>\n",
       "      <th>29</th>\n",
       "      <td>1259.582056</td>\n",
       "      <td>9.816501</td>\n",
       "      <td>1236.666308</td>\n",
       "      <td>0.904666</td>\n",
       "    </tr>\n",
       "    <tr>\n",
       "      <th>...</th>\n",
       "      <td>...</td>\n",
       "      <td>...</td>\n",
       "      <td>...</td>\n",
       "      <td>...</td>\n",
       "    </tr>\n",
       "    <tr>\n",
       "      <th>413</th>\n",
       "      <td>1188.396484</td>\n",
       "      <td>7.909844</td>\n",
       "      <td>1072.765088</td>\n",
       "      <td>2.174890</td>\n",
       "    </tr>\n",
       "    <tr>\n",
       "      <th>414</th>\n",
       "      <td>1188.426978</td>\n",
       "      <td>7.931197</td>\n",
       "      <td>1072.624390</td>\n",
       "      <td>2.158464</td>\n",
       "    </tr>\n",
       "    <tr>\n",
       "      <th>415</th>\n",
       "      <td>1188.365454</td>\n",
       "      <td>7.901784</td>\n",
       "      <td>1072.347705</td>\n",
       "      <td>2.240098</td>\n",
       "    </tr>\n",
       "    <tr>\n",
       "      <th>416</th>\n",
       "      <td>1188.354321</td>\n",
       "      <td>7.904830</td>\n",
       "      <td>1072.141968</td>\n",
       "      <td>2.212282</td>\n",
       "    </tr>\n",
       "    <tr>\n",
       "      <th>417</th>\n",
       "      <td>1188.350049</td>\n",
       "      <td>7.931066</td>\n",
       "      <td>1071.990991</td>\n",
       "      <td>2.183360</td>\n",
       "    </tr>\n",
       "    <tr>\n",
       "      <th>418</th>\n",
       "      <td>1188.362109</td>\n",
       "      <td>7.930890</td>\n",
       "      <td>1071.823877</td>\n",
       "      <td>2.177202</td>\n",
       "    </tr>\n",
       "    <tr>\n",
       "      <th>419</th>\n",
       "      <td>1188.346265</td>\n",
       "      <td>7.840298</td>\n",
       "      <td>1071.690259</td>\n",
       "      <td>2.168283</td>\n",
       "    </tr>\n",
       "    <tr>\n",
       "      <th>420</th>\n",
       "      <td>1188.329956</td>\n",
       "      <td>7.857168</td>\n",
       "      <td>1071.529907</td>\n",
       "      <td>2.183412</td>\n",
       "    </tr>\n",
       "    <tr>\n",
       "      <th>421</th>\n",
       "      <td>1188.316480</td>\n",
       "      <td>7.840394</td>\n",
       "      <td>1071.401758</td>\n",
       "      <td>2.245838</td>\n",
       "    </tr>\n",
       "    <tr>\n",
       "      <th>422</th>\n",
       "      <td>1188.308789</td>\n",
       "      <td>7.819002</td>\n",
       "      <td>1071.243799</td>\n",
       "      <td>2.255883</td>\n",
       "    </tr>\n",
       "    <tr>\n",
       "      <th>423</th>\n",
       "      <td>1188.302686</td>\n",
       "      <td>7.814498</td>\n",
       "      <td>1071.178809</td>\n",
       "      <td>2.232144</td>\n",
       "    </tr>\n",
       "    <tr>\n",
       "      <th>424</th>\n",
       "      <td>1188.283789</td>\n",
       "      <td>7.833187</td>\n",
       "      <td>1071.003613</td>\n",
       "      <td>2.212769</td>\n",
       "    </tr>\n",
       "    <tr>\n",
       "      <th>425</th>\n",
       "      <td>1188.311987</td>\n",
       "      <td>7.829794</td>\n",
       "      <td>1070.798608</td>\n",
       "      <td>2.215696</td>\n",
       "    </tr>\n",
       "    <tr>\n",
       "      <th>426</th>\n",
       "      <td>1188.331128</td>\n",
       "      <td>7.800853</td>\n",
       "      <td>1070.690942</td>\n",
       "      <td>2.232856</td>\n",
       "    </tr>\n",
       "    <tr>\n",
       "      <th>427</th>\n",
       "      <td>1188.348389</td>\n",
       "      <td>7.798100</td>\n",
       "      <td>1070.547363</td>\n",
       "      <td>2.238388</td>\n",
       "    </tr>\n",
       "    <tr>\n",
       "      <th>428</th>\n",
       "      <td>1188.352270</td>\n",
       "      <td>7.808173</td>\n",
       "      <td>1070.449878</td>\n",
       "      <td>2.211244</td>\n",
       "    </tr>\n",
       "    <tr>\n",
       "      <th>429</th>\n",
       "      <td>1188.325952</td>\n",
       "      <td>7.790617</td>\n",
       "      <td>1070.252075</td>\n",
       "      <td>2.264349</td>\n",
       "    </tr>\n",
       "    <tr>\n",
       "      <th>430</th>\n",
       "      <td>1188.336597</td>\n",
       "      <td>7.802284</td>\n",
       "      <td>1070.155347</td>\n",
       "      <td>2.273624</td>\n",
       "    </tr>\n",
       "    <tr>\n",
       "      <th>431</th>\n",
       "      <td>1188.343872</td>\n",
       "      <td>7.793746</td>\n",
       "      <td>1070.033765</td>\n",
       "      <td>2.273252</td>\n",
       "    </tr>\n",
       "    <tr>\n",
       "      <th>432</th>\n",
       "      <td>1188.342236</td>\n",
       "      <td>7.787394</td>\n",
       "      <td>1069.926831</td>\n",
       "      <td>2.242510</td>\n",
       "    </tr>\n",
       "    <tr>\n",
       "      <th>433</th>\n",
       "      <td>1188.362427</td>\n",
       "      <td>7.774585</td>\n",
       "      <td>1069.854175</td>\n",
       "      <td>2.259028</td>\n",
       "    </tr>\n",
       "    <tr>\n",
       "      <th>434</th>\n",
       "      <td>1188.348828</td>\n",
       "      <td>7.767569</td>\n",
       "      <td>1069.734400</td>\n",
       "      <td>2.214072</td>\n",
       "    </tr>\n",
       "    <tr>\n",
       "      <th>435</th>\n",
       "      <td>1188.340186</td>\n",
       "      <td>7.717539</td>\n",
       "      <td>1069.631152</td>\n",
       "      <td>2.226643</td>\n",
       "    </tr>\n",
       "    <tr>\n",
       "      <th>436</th>\n",
       "      <td>1188.306348</td>\n",
       "      <td>7.691095</td>\n",
       "      <td>1069.340088</td>\n",
       "      <td>2.217000</td>\n",
       "    </tr>\n",
       "    <tr>\n",
       "      <th>437</th>\n",
       "      <td>1188.328686</td>\n",
       "      <td>7.662780</td>\n",
       "      <td>1069.073804</td>\n",
       "      <td>2.200685</td>\n",
       "    </tr>\n",
       "    <tr>\n",
       "      <th>438</th>\n",
       "      <td>1188.314893</td>\n",
       "      <td>7.646758</td>\n",
       "      <td>1068.929834</td>\n",
       "      <td>2.206883</td>\n",
       "    </tr>\n",
       "    <tr>\n",
       "      <th>439</th>\n",
       "      <td>1188.321729</td>\n",
       "      <td>7.651284</td>\n",
       "      <td>1068.810083</td>\n",
       "      <td>2.188641</td>\n",
       "    </tr>\n",
       "    <tr>\n",
       "      <th>440</th>\n",
       "      <td>1188.305835</td>\n",
       "      <td>7.648384</td>\n",
       "      <td>1068.592065</td>\n",
       "      <td>2.170355</td>\n",
       "    </tr>\n",
       "    <tr>\n",
       "      <th>441</th>\n",
       "      <td>1188.277173</td>\n",
       "      <td>7.664443</td>\n",
       "      <td>1068.477832</td>\n",
       "      <td>2.154697</td>\n",
       "    </tr>\n",
       "    <tr>\n",
       "      <th>442</th>\n",
       "      <td>1188.273755</td>\n",
       "      <td>7.657707</td>\n",
       "      <td>1068.306031</td>\n",
       "      <td>2.125791</td>\n",
       "    </tr>\n",
       "  </tbody>\n",
       "</table>\n",
       "<p>443 rows × 4 columns</p>\n",
       "</div>"
      ],
      "text/plain": [
       "     test-mae-mean  test-mae-std  train-mae-mean  train-mae-std\n",
       "0      2734.748340     13.390094     2734.667236       3.260176\n",
       "1      2467.183447     12.685852     2466.739648       2.979399\n",
       "2      2235.907813     12.343284     2235.286670       2.896660\n",
       "3      2042.556421     12.403301     2041.406641       2.549383\n",
       "4      1883.062158     11.962605     1881.398633       2.597335\n",
       "5      1753.693189     11.625796     1751.311743       2.656002\n",
       "6      1650.430981     11.829814     1647.446314       1.876082\n",
       "7      1568.016065     12.540847     1564.213159       1.758753\n",
       "8      1503.380151     12.557919     1498.715112       2.142991\n",
       "9      1453.076392     12.326726     1447.535620       2.078956\n",
       "10     1413.052881     11.941609     1406.459326       2.501098\n",
       "11     1382.235669     12.143012     1374.798388       2.047024\n",
       "12     1357.672119     11.386639     1349.115234       2.301872\n",
       "13     1338.845410     11.946502     1329.128247       1.389065\n",
       "14     1323.644824     11.795020     1312.882764       2.001640\n",
       "15     1311.758838     11.067322     1300.123706       2.030391\n",
       "16     1302.867725     10.500964     1290.268310       1.717162\n",
       "17     1296.057861     10.461332     1282.474878       1.385074\n",
       "18     1290.393799     10.366740     1275.863013       1.451574\n",
       "19     1285.199951     10.414008     1269.762842       1.246797\n",
       "20     1281.091821     10.135177     1265.009863       1.319969\n",
       "21     1277.122681     10.369048     1260.273731       1.016155\n",
       "22     1273.826245     10.351547     1256.089941       0.756383\n",
       "23     1271.119214     10.292408     1252.642798       1.120168\n",
       "24     1269.501294     10.119158     1250.106006       0.937354\n",
       "25     1266.585132      9.549628     1246.378296       1.224745\n",
       "26     1264.434912      9.645966     1243.649878       1.035408\n",
       "27     1262.773511      9.891420     1241.187988       0.979313\n",
       "28     1261.336426      9.734792     1239.063232       1.072620\n",
       "29     1259.582056      9.816501     1236.666308       0.904666\n",
       "..             ...           ...             ...            ...\n",
       "413    1188.396484      7.909844     1072.765088       2.174890\n",
       "414    1188.426978      7.931197     1072.624390       2.158464\n",
       "415    1188.365454      7.901784     1072.347705       2.240098\n",
       "416    1188.354321      7.904830     1072.141968       2.212282\n",
       "417    1188.350049      7.931066     1071.990991       2.183360\n",
       "418    1188.362109      7.930890     1071.823877       2.177202\n",
       "419    1188.346265      7.840298     1071.690259       2.168283\n",
       "420    1188.329956      7.857168     1071.529907       2.183412\n",
       "421    1188.316480      7.840394     1071.401758       2.245838\n",
       "422    1188.308789      7.819002     1071.243799       2.255883\n",
       "423    1188.302686      7.814498     1071.178809       2.232144\n",
       "424    1188.283789      7.833187     1071.003613       2.212769\n",
       "425    1188.311987      7.829794     1070.798608       2.215696\n",
       "426    1188.331128      7.800853     1070.690942       2.232856\n",
       "427    1188.348389      7.798100     1070.547363       2.238388\n",
       "428    1188.352270      7.808173     1070.449878       2.211244\n",
       "429    1188.325952      7.790617     1070.252075       2.264349\n",
       "430    1188.336597      7.802284     1070.155347       2.273624\n",
       "431    1188.343872      7.793746     1070.033765       2.273252\n",
       "432    1188.342236      7.787394     1069.926831       2.242510\n",
       "433    1188.362427      7.774585     1069.854175       2.259028\n",
       "434    1188.348828      7.767569     1069.734400       2.214072\n",
       "435    1188.340186      7.717539     1069.631152       2.226643\n",
       "436    1188.306348      7.691095     1069.340088       2.217000\n",
       "437    1188.328686      7.662780     1069.073804       2.200685\n",
       "438    1188.314893      7.646758     1068.929834       2.206883\n",
       "439    1188.321729      7.651284     1068.810083       2.188641\n",
       "440    1188.305835      7.648384     1068.592065       2.170355\n",
       "441    1188.277173      7.664443     1068.477832       2.154697\n",
       "442    1188.273755      7.657707     1068.306031       2.125791\n",
       "\n",
       "[443 rows x 4 columns]"
      ]
     },
     "execution_count": 52,
     "metadata": {},
     "output_type": "execute_result"
    }
   ],
   "source": [
    "xgb_cv2"
   ]
  },
  {
   "cell_type": "code",
   "execution_count": 53,
   "metadata": {
    "collapsed": false
   },
   "outputs": [
    {
     "data": {
      "text/plain": [
       "<matplotlib.axes._subplots.AxesSubplot at 0x7f130aa0fc18>"
      ]
     },
     "execution_count": 53,
     "metadata": {},
     "output_type": "execute_result"
    },
    {
     "data": {
      "image/png": "[encoded data removed]",
      "text/plain": [
       "<matplotlib.figure.Figure at 0x7f130a8bc978>"
      ]
     },
     "metadata": {},
     "output_type": "display_data"
    }
   ],
   "source": [
    "xgb_cv2.plot(y=['test-mae-mean', 'train-mae-mean'])"
   ]
  },
  {
   "cell_type": "code",
   "execution_count": 54,
   "metadata": {
    "collapsed": false
   },
   "outputs": [
    {
     "data": {
      "text/plain": [
       "<matplotlib.axes._subplots.AxesSubplot at 0x7f130a72d160>"
      ]
     },
     "execution_count": 54,
     "metadata": {},
     "output_type": "execute_result"
    },
    {
     "data": {
      "image/png": "[encoded data removed]",
      "text/plain": [
       "<matplotlib.figure.Figure at 0x7f130a7548d0>"
      ]
     },
     "metadata": {},
     "output_type": "display_data"
    }
   ],
   "source": [
    "xgb_cv2[10:].plot(y=['test-mae-mean', 'train-mae-mean'], secondary_y='test-mae-mean')"
   ]
  },
  {
   "cell_type": "code",
   "execution_count": 55,
   "metadata": {
    "collapsed": false
   },
   "outputs": [
    {
     "data": {
      "text/plain": [
       "442"
      ]
     },
     "execution_count": 55,
     "metadata": {},
     "output_type": "execute_result"
    }
   ],
   "source": [
    "xgb_cv2['test-mae-mean'].argmin()"
   ]
  },
  {
   "cell_type": "code",
   "execution_count": 56,
   "metadata": {
    "collapsed": false
   },
   "outputs": [
    {
     "data": {
      "text/plain": [
       "test-mae-mean     1188.273755\n",
       "test-mae-std         7.657707\n",
       "train-mae-mean    1068.306031\n",
       "train-mae-std        2.125791\n",
       "Name: 442, dtype: float64"
      ]
     },
     "execution_count": 56,
     "metadata": {},
     "output_type": "execute_result"
    }
   ],
   "source": [
    "xgb_cv2.loc[442]"
   ]
  },
  {
   "cell_type": "code",
   "execution_count": 57,
   "metadata": {
    "collapsed": true
   },
   "outputs": [],
   "source": [
    "num_rounds = xgb_cv2['test-mae-mean'].argmin()"
   ]
  },
  {
   "cell_type": "markdown",
   "metadata": {},
   "source": [
    "#### 4.2. XGBoost CV - refit model with estimated num_rounds"
   ]
  },
  {
   "cell_type": "code",
   "execution_count": 58,
   "metadata": {
    "collapsed": false
   },
   "outputs": [
    {
     "name": "stdout",
     "output_type": "stream",
     "text": [
      "--- 89.37668776512146 seconds ---\n"
     ]
    }
   ],
   "source": [
    "start_time = time.time()\n",
    "xgb4 = xgb.train(param, dtrain_tr, num_rounds)\n",
    "print(\"--- %s seconds ---\" % (time.time() - start_time))"
   ]
  },
  {
   "cell_type": "code",
   "execution_count": 59,
   "metadata": {
    "collapsed": true
   },
   "outputs": [],
   "source": [
    "xgb4_pred = xgb4.predict(dtest_val)"
   ]
  },
  {
   "cell_type": "code",
   "execution_count": 60,
   "metadata": {
    "collapsed": false
   },
   "outputs": [
    {
     "data": {
      "text/plain": [
       "1186.5947129950503"
      ]
     },
     "execution_count": 60,
     "metadata": {},
     "output_type": "execute_result"
    }
   ],
   "source": [
    "xgb4_mae = mean_absolute_error(yval, xgb4_pred, sample_weight=None, multioutput='uniform_average')\n",
    "xgb4_mae"
   ]
  },
  {
   "cell_type": "code",
   "execution_count": 61,
   "metadata": {
    "collapsed": true
   },
   "outputs": [],
   "source": [
    "imps = pd.Series(xgb4.get_fscore()).sort_values()"
   ]
  },
  {
   "cell_type": "code",
   "execution_count": 62,
   "metadata": {
    "collapsed": false
   },
   "outputs": [
    {
     "data": {
      "text/plain": [
       "<matplotlib.text.Text at 0x7f130a64a358>"
      ]
     },
     "execution_count": 62,
     "metadata": {},
     "output_type": "execute_result"
    },
    {
     "data": {
      "image/png": "[encoded data removed]",
      "text/plain": [
       "<matplotlib.figure.Figure at 0x7f130a63ad30>"
      ]
     },
     "metadata": {},
     "output_type": "display_data"
    }
   ],
   "source": [
    "imps[500:].plot(kind='bar', figsize=(15,6),logy=True, title='Feature Importances')\n",
    "plt.ylabel('Feature Importance Score')"
   ]
  },
  {
   "cell_type": "markdown",
   "metadata": {},
   "source": [
    "**General Parameters**\n",
    "* booster [default=gbtree]\n",
    "* silent [default=0]\n",
    "* nthread [default to maximum number of threads available if not set]\n",
    "* num_pbuffer [set automatically by xgboost, no need to be set by user]\n",
    "* num_feature [set automatically by xgboost, no need to be set by user]\n",
    "\n",
    "**Parameters for Tree Booster**\n",
    "* **eta = 0.1** [default=0.3], range: [0,1]\n",
    "* gamma [default=0], range: [0,∞]\n",
    "* max_depth [default=6], range: [1,∞]\n",
    "* min_child_weight [default=1], range: [0,∞]\n",
    "* max_delta_step [default=0], range: [0,∞]\n",
    "* subsample [default=1], range: (0,1]\n",
    "* colsample_bytree [default=1], range: (0,1]\n",
    "* colsample_bylevel [default=1], range: (0,1]\n",
    "* lambda [default=1]\n",
    "* alpha [default=0]\n",
    "* tree_method, string [default=’auto’], Choices: {‘auto’, ‘exact’, ‘approx’}\n",
    "* sketch_eps, [default=0.03], range: (0, 1)\n",
    "* scale_pos_weight, [default=1]\n",
    "* updater_seq, [default=”grow_colmaker,prune”]\n",
    "\n",
    "**Learning Task Parameters**\n",
    "* **objective = 'reg:linear'** [ default=reg:linear ]\n",
    "* base_score [ default=0.5 ]\n",
    "* **eval_metric = 'mae'** [ default according to objective ]\n",
    "* seed [ default=0 ]\n"
   ]
  },
  {
   "cell_type": "markdown",
   "metadata": {},
   "source": [
    "#### 5. Replicate previous XGBoost results using sklrearn API"
   ]
  },
  {
   "cell_type": "code",
   "execution_count": 63,
   "metadata": {
    "collapsed": true
   },
   "outputs": [],
   "source": [
    "xgb5 = xgb.XGBRegressor(learning_rate=0.1, n_estimators=num_rounds, max_depth=6)"
   ]
  },
  {
   "cell_type": "code",
   "execution_count": 64,
   "metadata": {
    "collapsed": false
   },
   "outputs": [
    {
     "name": "stdout",
     "output_type": "stream",
     "text": [
      "--- 96.09558129310608 seconds ---\n"
     ]
    }
   ],
   "source": [
    "start_time = time.time()\n",
    "xgb5.fit(Xtr, ytr, eval_metric='mae')\n",
    "print(\"--- %s seconds ---\" % (time.time() - start_time))"
   ]
  },
  {
   "cell_type": "code",
   "execution_count": 65,
   "metadata": {
    "collapsed": false
   },
   "outputs": [
    {
     "data": {
      "text/plain": [
       "1186.5947129950503"
      ]
     },
     "execution_count": 65,
     "metadata": {},
     "output_type": "execute_result"
    }
   ],
   "source": [
    "xgb5_pred = xgb5.predict(Xval)\n",
    "xgb5_mae = mean_absolute_error(yval, xgb5_pred, sample_weight=None, multioutput='uniform_average')\n",
    "xgb5_mae"
   ]
  },
  {
   "cell_type": "markdown",
   "metadata": {},
   "source": [
    "#### 6. Tune max_depth and min_child_weight"
   ]
  },
  {
   "cell_type": "code",
   "execution_count": 66,
   "metadata": {
    "collapsed": true
   },
   "outputs": [],
   "source": [
    "param_gridsearch = {\n",
    " 'max_depth':list(range(3,10,2)),\n",
    " 'min_child_weight':list(range(1,6,2))\n",
    "}"
   ]
  },
  {
   "cell_type": "code",
   "execution_count": 67,
   "metadata": {
    "collapsed": false
   },
   "outputs": [],
   "source": [
    "gsearch1 = GridSearchCV(estimator = xgb.XGBRegressor(learning_rate=0.1, n_estimators=num_rounds, max_depth=6),\n",
    "                        param_grid = param_gridsearch, scoring='mean_absolute_error',n_jobs=-1, iid=False, cv=5)"
   ]
  },
  {
   "cell_type": "code",
   "execution_count": 68,
   "metadata": {
    "collapsed": false
   },
   "outputs": [
    {
     "data": {
      "text/plain": [
       "GridSearchCV(cv=5, error_score='raise',\n",
       "       estimator=XGBRegressor(base_score=0.5, colsample_bylevel=1, colsample_bytree=1, gamma=0,\n",
       "       learning_rate=0.1, max_delta_step=0, max_depth=6,\n",
       "       min_child_weight=1, missing=None, n_estimators=442, nthread=-1,\n",
       "       objective='reg:linear', reg_alpha=0, reg_lambda=1,\n",
       "       scale_pos_weight=1, seed=0, silent=True, subsample=1),\n",
       "       fit_params={}, iid=False, n_jobs=-1,\n",
       "       param_grid={'min_child_weight': [1, 3, 5], 'max_depth': [3, 5, 7, 9]},\n",
       "       pre_dispatch='2*n_jobs', refit=True, scoring='mean_absolute_error',\n",
       "       verbose=0)"
      ]
     },
     "execution_count": 68,
     "metadata": {},
     "output_type": "execute_result"
    }
   ],
   "source": [
    "gsearch1"
   ]
  },
  {
   "cell_type": "code",
   "execution_count": 69,
   "metadata": {
    "collapsed": false
   },
   "outputs": [
    {
     "name": "stdout",
     "output_type": "stream",
     "text": [
      "--- 8277.61771607399 seconds ---\n"
     ]
    }
   ],
   "source": [
    "start_time = time.time()\n",
    "gsearch1.fit(X, y)\n",
    "print(\"--- %s seconds ---\" % (time.time() - start_time))"
   ]
  },
  {
   "cell_type": "code",
   "execution_count": 73,
   "metadata": {
    "collapsed": false
   },
   "outputs": [
    {
     "data": {
      "text/plain": [
       "{'max_depth': 7, 'min_child_weight': 3}"
      ]
     },
     "execution_count": 73,
     "metadata": {},
     "output_type": "execute_result"
    }
   ],
   "source": [
    "gsearch1.best_params_"
   ]
  },
  {
   "cell_type": "code",
   "execution_count": 71,
   "metadata": {
    "collapsed": false
   },
   "outputs": [
    {
     "data": {
      "text/plain": [
       "XGBRegressor(base_score=0.5, colsample_bylevel=1, colsample_bytree=1, gamma=0,\n",
       "       learning_rate=0.1, max_delta_step=0, max_depth=7,\n",
       "       min_child_weight=3, missing=None, n_estimators=442, nthread=-1,\n",
       "       objective='reg:linear', reg_alpha=0, reg_lambda=1,\n",
       "       scale_pos_weight=1, seed=0, silent=True, subsample=1)"
      ]
     },
     "execution_count": 71,
     "metadata": {},
     "output_type": "execute_result"
    }
   ],
   "source": [
    "gsearch1.best_estimator_"
   ]
  },
  {
   "cell_type": "code",
   "execution_count": 74,
   "metadata": {
    "collapsed": false
   },
   "outputs": [
    {
     "data": {
      "text/plain": [
       "-1184.5639581024693"
      ]
     },
     "execution_count": 74,
     "metadata": {},
     "output_type": "execute_result"
    }
   ],
   "source": [
    "gsearch1.best_score_"
   ]
  },
  {
   "cell_type": "code",
   "execution_count": 78,
   "metadata": {
    "collapsed": false
   },
   "outputs": [
    {
     "data": {
      "text/plain": [
       "[mean: -1208.87851, std: 6.28339, params: {'min_child_weight': 1, 'max_depth': 3},\n",
       " mean: -1207.41744, std: 6.03382, params: {'min_child_weight': 3, 'max_depth': 3},\n",
       " mean: -1207.33724, std: 6.73638, params: {'min_child_weight': 5, 'max_depth': 3},\n",
       " mean: -1188.63742, std: 6.31087, params: {'min_child_weight': 1, 'max_depth': 5},\n",
       " mean: -1188.87583, std: 7.08116, params: {'min_child_weight': 3, 'max_depth': 5},\n",
       " mean: -1188.88994, std: 6.29933, params: {'min_child_weight': 5, 'max_depth': 5},\n",
       " mean: -1185.72311, std: 6.38585, params: {'min_child_weight': 1, 'max_depth': 7},\n",
       " mean: -1184.56396, std: 6.62433, params: {'min_child_weight': 3, 'max_depth': 7},\n",
       " mean: -1184.83147, std: 6.85457, params: {'min_child_weight': 5, 'max_depth': 7},\n",
       " mean: -1187.61806, std: 5.15353, params: {'min_child_weight': 1, 'max_depth': 9},\n",
       " mean: -1187.16711, std: 6.43681, params: {'min_child_weight': 3, 'max_depth': 9},\n",
       " mean: -1187.43262, std: 6.22267, params: {'min_child_weight': 5, 'max_depth': 9}]"
      ]
     },
     "execution_count": 78,
     "metadata": {},
     "output_type": "execute_result"
    }
   ],
   "source": [
    "gsearch1.grid_scores_"
   ]
  },
  {
   "cell_type": "code",
   "execution_count": 86,
   "metadata": {
    "collapsed": false
   },
   "outputs": [
    {
     "data": {
      "text/plain": [
       "['../models/xgboost_gsearch1.pkl']"
      ]
     },
     "execution_count": 86,
     "metadata": {},
     "output_type": "execute_result"
    }
   ],
   "source": [
    "joblib.dump(gsearch1.best_estimator_, '../models/xgboost_gsearch1.pkl')"
   ]
  },
  {
   "cell_type": "markdown",
   "metadata": {},
   "source": [
    "#### 7. Tune max_depth and min_child_weight deeper"
   ]
  },
  {
   "cell_type": "code",
   "execution_count": null,
   "metadata": {
    "collapsed": true
   },
   "outputs": [],
   "source": [
    "param_gridsearch2 = {\n",
    " 'max_depth':[6,7,8],\n",
    " 'min_child_weight':[2,3,4]\n",
    "}"
   ]
  },
  {
   "cell_type": "code",
   "execution_count": null,
   "metadata": {
    "collapsed": true
   },
   "outputs": [],
   "source": [
    "gsearch2 = GridSearchCV(estimator = xgb.XGBRegressor(learning_rate=0.1, n_estimators=num_rounds, max_depth=6),\n",
    "                        param_grid = param_gridsearch, scoring='mean_absolute_error',n_jobs=-1, iid=False, cv=5)"
   ]
  },
  {
   "cell_type": "code",
   "execution_count": null,
   "metadata": {
    "collapsed": true
   },
   "outputs": [],
   "source": [
    "gsearch1"
   ]
  },
  {
   "cell_type": "code",
   "execution_count": null,
   "metadata": {
    "collapsed": true
   },
   "outputs": [],
   "source": [
    "start_time = time.time()\n",
    "gsearch1.fit(X, y)\n",
    "print(\"--- %s seconds ---\" % (time.time() - start_time))"
   ]
  },
  {
   "cell_type": "code",
   "execution_count": null,
   "metadata": {
    "collapsed": true
   },
   "outputs": [],
   "source": [
    "gsearch1.best_params_"
   ]
  },
  {
   "cell_type": "code",
   "execution_count": null,
   "metadata": {
    "collapsed": true
   },
   "outputs": [],
   "source": [
    "gsearch1.best_estimator_"
   ]
  },
  {
   "cell_type": "code",
   "execution_count": null,
   "metadata": {
    "collapsed": true
   },
   "outputs": [],
   "source": [
    "gsearch1.best_score_"
   ]
  },
  {
   "cell_type": "code",
   "execution_count": null,
   "metadata": {
    "collapsed": true
   },
   "outputs": [],
   "source": [
    "gsearch1.grid_scores_"
   ]
  },
  {
   "cell_type": "code",
   "execution_count": null,
   "metadata": {
    "collapsed": true
   },
   "outputs": [],
   "source": [
    "joblib.dump(gsearch1.best_estimator_, '../models/xgboost_gsearch1.pkl')"
   ]
  },
  {
   "cell_type": "code",
   "execution_count": null,
   "metadata": {
    "collapsed": true
   },
   "outputs": [],
   "source": []
  },
  {
   "cell_type": "code",
   "execution_count": null,
   "metadata": {
    "collapsed": true
   },
   "outputs": [],
   "source": []
  },
  {
   "cell_type": "code",
   "execution_count": null,
   "metadata": {
    "collapsed": true
   },
   "outputs": [],
   "source": []
  },
  {
   "cell_type": "code",
   "execution_count": null,
   "metadata": {
    "collapsed": true
   },
   "outputs": [],
   "source": []
  },
  {
   "cell_type": "code",
   "execution_count": null,
   "metadata": {
    "collapsed": true
   },
   "outputs": [],
   "source": []
  },
  {
   "cell_type": "code",
   "execution_count": null,
   "metadata": {
    "collapsed": true
   },
   "outputs": [],
   "source": [
    "def modelfit(alg, dtrain, predictors,useTrainCV=True, cv_folds=5, early_stopping_rounds=50):\n",
    "    \n",
    "    if useTrainCV:\n",
    "        xgb_param = alg.get_xgb_params()\n",
    "        xgtrain = xgb.DMatrix(dtrain[predictors].values, label=dtrain[target].values)\n",
    "        cvresult = xgb.cv(xgb_param, xgtrain, num_boost_round=alg.get_params()['n_estimators'], nfold=cv_folds,\n",
    "            metrics='auc', early_stopping_rounds=early_stopping_rounds, show_progress=False)\n",
    "        alg.set_params(n_estimators=cvresult.shape[0])\n",
    "    \n",
    "    #Fit the algorithm on the data\n",
    "    alg.fit(dtrain[predictors], dtrain['Disbursed'],eval_metric='auc')\n",
    "        \n",
    "    #Predict training set:\n",
    "    dtrain_predictions = alg.predict(dtrain[predictors])\n",
    "    dtrain_predprob = alg.predict_proba(dtrain[predictors])[:,1]\n",
    "        \n",
    "    #Print model report:\n",
    "    print \"\\nModel Report\"\n",
    "    print \"Accuracy : %.4g\" % metrics.accuracy_score(dtrain['Disbursed'].values, dtrain_predictions)\n",
    "    print \"AUC Score (Train): %f\" % metrics.roc_auc_score(dtrain['Disbursed'], dtrain_predprob)\n",
    "                    \n",
    "    feat_imp = pd.Series(alg.booster().get_fscore()).sort_values(ascending=False)\n",
    "    feat_imp.plot(kind='bar', title='Feature Importances')\n",
    "    plt.ylabel('Feature Importance Score')"
   ]
  },
  {
   "cell_type": "code",
   "execution_count": null,
   "metadata": {
    "collapsed": true
   },
   "outputs": [],
   "source": []
  },
  {
   "cell_type": "code",
   "execution_count": 80,
   "metadata": {
    "collapsed": false
   },
   "outputs": [],
   "source": [
    "xgb_gsearch1_pred = gsearch1.best_estimator_.predict(test)"
   ]
  },
  {
   "cell_type": "code",
   "execution_count": 81,
   "metadata": {
    "collapsed": true
   },
   "outputs": [],
   "source": [
    "xgb_submit = pd.DataFrame({'id': testId, 'loss': xgb_gsearch1_pred})"
   ]
  },
  {
   "cell_type": "code",
   "execution_count": 82,
   "metadata": {
    "collapsed": true
   },
   "outputs": [],
   "source": [
    "xgb_submit.to_csv('../output/2016-11-28-bff-xgboost-gridsearch.csv', index=False)"
   ]
  },
  {
   "cell_type": "code",
   "execution_count": null,
   "metadata": {
    "collapsed": true
   },
   "outputs": [],
   "source": []
  },
  {
   "cell_type": "markdown",
   "metadata": {},
   "source": [
    "Train model using full train set and make prediction on test set"
   ]
  },
  {
   "cell_type": "code",
   "execution_count": 117,
   "metadata": {
    "collapsed": true
   },
   "outputs": [],
   "source": [
    "xgb_bst = xgb.train(param, dtrain, num_rounds)"
   ]
  },
  {
   "cell_type": "code",
   "execution_count": 118,
   "metadata": {
    "collapsed": true
   },
   "outputs": [],
   "source": [
    "xgb_bst_pred = xgb_bst.predict(dtest)"
   ]
  },
  {
   "cell_type": "code",
   "execution_count": 119,
   "metadata": {
    "collapsed": false
   },
   "outputs": [],
   "source": [
    "xgb_submit = pd.DataFrame({'id': testId, 'loss': xgb_bst_pred})"
   ]
  },
  {
   "cell_type": "code",
   "execution_count": 120,
   "metadata": {
    "collapsed": false
   },
   "outputs": [
    {
     "data": {
      "text/html": [
       "<div>\n",
       "<table border=\"1\" class=\"dataframe\">\n",
       "  <thead>\n",
       "    <tr style=\"text-align: right;\">\n",
       "      <th></th>\n",
       "      <th>id</th>\n",
       "      <th>loss</th>\n",
       "    </tr>\n",
       "  </thead>\n",
       "  <tbody>\n",
       "    <tr>\n",
       "      <th>0</th>\n",
       "      <td>4</td>\n",
       "      <td>1623.605835</td>\n",
       "    </tr>\n",
       "    <tr>\n",
       "      <th>1</th>\n",
       "      <td>6</td>\n",
       "      <td>1917.157349</td>\n",
       "    </tr>\n",
       "    <tr>\n",
       "      <th>2</th>\n",
       "      <td>9</td>\n",
       "      <td>10121.073242</td>\n",
       "    </tr>\n",
       "    <tr>\n",
       "      <th>3</th>\n",
       "      <td>12</td>\n",
       "      <td>6659.223145</td>\n",
       "    </tr>\n",
       "    <tr>\n",
       "      <th>4</th>\n",
       "      <td>15</td>\n",
       "      <td>907.076294</td>\n",
       "    </tr>\n",
       "  </tbody>\n",
       "</table>\n",
       "</div>"
      ],
      "text/plain": [
       "   id          loss\n",
       "0   4   1623.605835\n",
       "1   6   1917.157349\n",
       "2   9  10121.073242\n",
       "3  12   6659.223145\n",
       "4  15    907.076294"
      ]
     },
     "execution_count": 120,
     "metadata": {},
     "output_type": "execute_result"
    }
   ],
   "source": [
    "xgb_submit.head()"
   ]
  },
  {
   "cell_type": "code",
   "execution_count": 121,
   "metadata": {
    "collapsed": true
   },
   "outputs": [],
   "source": [
    "xgb_submit.to_csv('../output/2016-11-21-bff-xgboost-cv2.csv', index=False)"
   ]
  },
  {
   "cell_type": "code",
   "execution_count": null,
   "metadata": {
    "collapsed": true
   },
   "outputs": [],
   "source": []
  }
 ],
 "metadata": {
  "anaconda-cloud": {},
  "kernelspec": {
   "display_name": "Python [conda root]",
   "language": "python",
   "name": "conda-root-py"
  },
  "language_info": {
   "codemirror_mode": {
    "name": "ipython",
    "version": 3
   },
   "file_extension": ".py",
   "mimetype": "text/x-python",
   "name": "python",
   "nbconvert_exporter": "python",
   "pygments_lexer": "ipython3",
   "version": "3.5.2"
  }
 },
 "nbformat": 4,
 "nbformat_minor": 1
}
